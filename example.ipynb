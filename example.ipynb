{
 "cells": [
  {
   "cell_type": "code",
   "execution_count": 1,
   "metadata": {},
   "outputs": [],
   "source": [
    "import tensorflow as tf\n",
    "from tensorflow import keras\n",
    "import tensorflow_datasets as tfds\n",
    "from tensorflow.data import AUTOTUNE\n",
    "from frontier_stitching import gen_adversaries, verify"
   ]
  },
  {
   "cell_type": "code",
   "execution_count": 2,
   "metadata": {},
   "outputs": [],
   "source": [
    "physical_devices = tf.config.list_physical_devices('GPU')\n",
    "if len(physical_devices) > 0:\n",
    "    tf.config.experimental.set_memory_growth(physical_devices[0], True)"
   ]
  },
  {
   "cell_type": "code",
   "execution_count": 3,
   "metadata": {
    "scrolled": true
   },
   "outputs": [
    {
     "name": "stdout",
     "output_type": "stream",
     "text": [
      "Epoch 1/3\n",
      "469/469 [==============================] - 5s 7ms/step - loss: 0.9382 - sparse_categorical_accuracy: 0.6999 - val_loss: 0.1161 - val_sparse_categorical_accuracy: 0.9665\n",
      "Epoch 2/3\n",
      "469/469 [==============================] - 2s 5ms/step - loss: 0.1205 - sparse_categorical_accuracy: 0.9638 - val_loss: 0.0910 - val_sparse_categorical_accuracy: 0.9709\n",
      "Epoch 3/3\n",
      "469/469 [==============================] - 2s 5ms/step - loss: 0.0863 - sparse_categorical_accuracy: 0.9740 - val_loss: 0.0714 - val_sparse_categorical_accuracy: 0.9782\n"
     ]
    }
   ],
   "source": [
    "def to_float(x, y):\n",
    "    return tf.cast(x, tf.float32) / 255.0, y\n",
    "\n",
    "def comp(model):\n",
    "    model.compile(optimizer=tf.keras.optimizers.SGD(learning_rate=0.01, momentum=0.9), \n",
    "              loss=tf.keras.losses.SparseCategoricalCrossentropy(from_logits=True), \n",
    "              metrics=[\"sparse_categorical_accuracy\"])\n",
    "\n",
    "dataset = tfds.load(\"mnist\", split=\"train\", as_supervised=True)\n",
    "val_set = tfds.load(\"mnist\", split=\"test\", as_supervised=True)\n",
    "\n",
    "dataset = dataset.map(to_float).shuffle(1024).batch(128).prefetch(AUTOTUNE)\n",
    "val_set = val_set.map(to_float).batch(128)\n",
    "\n",
    "model = keras.Sequential([\n",
    "            keras.layers.Conv2D(16, 3, padding=\"same\", activation=\"relu\"),\n",
    "            keras.layers.Conv2D(32, 3, padding=\"same\", strides=2, activation=\"relu\"),\n",
    "            keras.layers.Conv2D(64, 3, padding=\"same\", strides=2, activation=\"relu\"),\n",
    "            keras.layers.Flatten(),\n",
    "            keras.layers.Dense(10, activation=None)\n",
    "        ])\n",
    "\n",
    "comp(model)\n",
    "model.build(input_shape=(None, 28, 28, 1))\n",
    "\n",
    "# pretrain the model\n",
    "model.fit(dataset, epochs=3, validation_data=val_set)\n",
    "\n",
    "l = 100\n",
    "\n",
    "# generate key set\n",
    "true_advs, false_advs = gen_adversaries(model, l, dataset, 0.1)\n",
    "\n",
    "# In case that not the full number of adversaries could be generated a reduced amount is returned\n",
    "assert(len(true_advs + false_advs) == l)\n",
    "\n",
    "key_set_x = tf.data.Dataset.from_tensor_slices([x for x, y in true_advs + false_advs])\n",
    "key_set_y = tf.data.Dataset.from_tensor_slices([y for x, y in true_advs + false_advs])\n",
    "key_set = tf.data.Dataset.zip((key_set_x, key_set_y)).batch(128)"
   ]
  },
  {
   "cell_type": "code",
   "execution_count": 4,
   "metadata": {},
   "outputs": [
    {
     "name": "stdout",
     "output_type": "stream",
     "text": [
      "Epoch 1/5\n",
      "1/1 [==============================] - 1s 810ms/step - loss: 2.0916 - sparse_categorical_accuracy: 0.5000 - val_loss: 0.0658 - val_sparse_categorical_accuracy: 0.9790\n",
      "Epoch 2/5\n",
      "1/1 [==============================] - 0s 454ms/step - loss: 1.5772 - sparse_categorical_accuracy: 0.5500 - val_loss: 0.0688 - val_sparse_categorical_accuracy: 0.9779\n",
      "Epoch 3/5\n",
      "1/1 [==============================] - 0s 452ms/step - loss: 0.9644 - sparse_categorical_accuracy: 0.6600 - val_loss: 0.0825 - val_sparse_categorical_accuracy: 0.9757\n",
      "Epoch 4/5\n",
      "1/1 [==============================] - 0s 480ms/step - loss: 0.5848 - sparse_categorical_accuracy: 0.8200 - val_loss: 0.0986 - val_sparse_categorical_accuracy: 0.9686\n",
      "Epoch 5/5\n",
      "1/1 [==============================] - 0s 488ms/step - loss: 0.3468 - sparse_categorical_accuracy: 0.8800 - val_loss: 0.1165 - val_sparse_categorical_accuracy: 0.9633\n"
     ]
    },
    {
     "data": {
      "text/plain": [
       "<tensorflow.python.keras.callbacks.History at 0x7fa8f011be50>"
      ]
     },
     "execution_count": 4,
     "metadata": {},
     "output_type": "execute_result"
    }
   ],
   "source": [
    "# reset the optimizer and embed the watermark\n",
    "comp(model)\n",
    "model.fit(key_set, epochs=5, validation_data=val_set)"
   ]
  },
  {
   "cell_type": "code",
   "execution_count": 5,
   "metadata": {},
   "outputs": [],
   "source": [
    "info = verify(model, key_set, 0.05)"
   ]
  },
  {
   "cell_type": "code",
   "execution_count": 6,
   "metadata": {},
   "outputs": [
    {
     "name": "stdout",
     "output_type": "stream",
     "text": [
      "Model is ours and was successfully watermarked.\n"
     ]
    }
   ],
   "source": [
    "if info[\"success\"]:\n",
    "    print(\"Model is ours and was successfully watermarked.\")\n",
    "else:\n",
    "    print(\"Model is not ours and was not successfully watermarked.\")"
   ]
  }
 ],
 "metadata": {
  "kernelspec": {
   "display_name": "Python 3",
   "language": "python",
   "name": "python3"
  },
  "language_info": {
   "codemirror_mode": {
    "name": "ipython",
    "version": 3
   },
   "file_extension": ".py",
   "mimetype": "text/x-python",
   "name": "python",
   "nbconvert_exporter": "python",
   "pygments_lexer": "ipython3",
   "version": "3.8.5"
  }
 },
 "nbformat": 4,
 "nbformat_minor": 4
}

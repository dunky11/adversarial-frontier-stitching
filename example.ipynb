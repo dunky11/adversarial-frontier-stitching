{
 "cells": [
  {
   "cell_type": "code",
   "execution_count": 1,
   "metadata": {},
   "outputs": [],
   "source": [
    "import tensorflow as tf\n",
    "from tensorflow import keras\n",
    "import tensorflow_datasets as tfds\n",
    "from frontier_stitching import gen_adversaries, verify"
   ]
  },
  {
   "cell_type": "code",
   "execution_count": 2,
   "metadata": {},
   "outputs": [
    {
     "name": "stdout",
     "output_type": "stream",
     "text": [
      "Epoch 1/3\n",
      "469/469 [==============================] - 10s 21ms/step - loss: 0.4783 - sparse_categorical_accuracy: 0.8573 - val_loss: 0.1542 - val_sparse_categorical_accuracy: 0.9560\n",
      "Epoch 2/3\n",
      "469/469 [==============================] - 10s 20ms/step - loss: 0.1176 - sparse_categorical_accuracy: 0.9642 - val_loss: 0.0843 - val_sparse_categorical_accuracy: 0.9732\n",
      "Epoch 3/3\n",
      "469/469 [==============================] - 10s 20ms/step - loss: 0.0831 - sparse_categorical_accuracy: 0.9745 - val_loss: 0.0664 - val_sparse_categorical_accuracy: 0.9785\n"
     ]
    }
   ],
   "source": [
    "def to_float(x, y):\n",
    "    return tf.cast(x, tf.float32) / 255.0, y\n",
    "\n",
    "def comp(model):\n",
    "    model.compile(optimizer=tf.keras.optimizers.SGD(learning_rate=0.01, momentum=0.9), \n",
    "              loss=tf.keras.losses.SparseCategoricalCrossentropy(from_logits=True), \n",
    "              metrics=[\"sparse_categorical_accuracy\"])\n",
    "\n",
    "dataset = tfds.load(\"mnist\", split=\"train\", as_supervised=True)\n",
    "val_set = tfds.load(\"mnist\", split=\"test\", as_supervised=True)\n",
    "\n",
    "dataset = dataset.map(to_float).shuffle(2048).batch(128).prefetch(-1)\n",
    "val_set = val_set.map(to_float).batch(128)\n",
    "\n",
    "model = keras.Sequential([\n",
    "            keras.layers.Conv2D(16, 3, padding=\"same\", activation=\"relu\"),\n",
    "            keras.layers.Conv2D(32, 3, padding=\"same\", strides=2, activation=\"relu\"),\n",
    "            keras.layers.Conv2D(64, 3, padding=\"same\", strides=2, activation=\"relu\"),\n",
    "            keras.layers.Flatten(),\n",
    "            keras.layers.Dense(10, activation=None)\n",
    "        ])\n",
    "\n",
    "comp(model)\n",
    "model.build(input_shape=(None, 28, 28, 1))\n",
    "\n",
    "l = 100\n",
    "\n",
    "# generate key set\n",
    "true_advs, false_advs = gen_adversaries(model, l, dataset, 1. / 255.)\n",
    "\n",
    "# In case that not the full number of adversaries could be generated a reduced amount is returned\n",
    "assert(len(true_advs + false_advs) == l)\n",
    "\n",
    "key_set_x = tf.data.Dataset.from_tensor_slices([x for x, y in true_advs + false_advs])\n",
    "key_set_y = tf.data.Dataset.from_tensor_slices([y for x, y in true_advs + false_advs])\n",
    "key_set = tf.data.Dataset.zip((key_set_x, key_set_y)).batch(128)\n",
    "\n",
    "_ = model.fit(dataset, epochs=3, validation_data=val_set)"
   ]
  },
  {
   "cell_type": "code",
   "execution_count": 3,
   "metadata": {},
   "outputs": [
    {
     "name": "stdout",
     "output_type": "stream",
     "text": [
      "Epoch 1/2\n",
      "1/1 [==============================] - 1s 699ms/step - loss: 0.0389 - sparse_categorical_accuracy: 0.9900 - val_loss: 0.0663 - val_sparse_categorical_accuracy: 0.9781\n",
      "Epoch 2/2\n",
      "1/1 [==============================] - 1s 614ms/step - loss: 0.0333 - sparse_categorical_accuracy: 0.9900 - val_loss: 0.0665 - val_sparse_categorical_accuracy: 0.9782\n"
     ]
    }
   ],
   "source": [
    "# reset the optimizer and embed the watermark\n",
    "comp(model)\n",
    "_ = model.fit(key_set, epochs=2, validation_data=val_set)"
   ]
  },
  {
   "cell_type": "code",
   "execution_count": 4,
   "metadata": {},
   "outputs": [],
   "source": [
    "info = verify(model, key_set, 0.05)"
   ]
  },
  {
   "cell_type": "code",
   "execution_count": 5,
   "metadata": {},
   "outputs": [
    {
     "name": "stdout",
     "output_type": "stream",
     "text": [
      "Model is ours and was successfully watermarked.\n"
     ]
    }
   ],
   "source": [
    "if info[\"success\"]:\n",
    "    print(\"Model is ours and was successfully watermarked.\")\n",
    "else:\n",
    "    print(\"Model is not ours and was not successfully watermarked.\")"
   ]
  }
 ],
 "metadata": {
  "kernelspec": {
   "display_name": "Python 3",
   "language": "python",
   "name": "python3"
  },
  "language_info": {
   "codemirror_mode": {
    "name": "ipython",
    "version": 3
   },
   "file_extension": ".py",
   "mimetype": "text/x-python",
   "name": "python",
   "nbconvert_exporter": "python",
   "pygments_lexer": "ipython3",
   "version": "3.8.5"
  }
 },
 "nbformat": 4,
 "nbformat_minor": 4
}
